{
 "cells": [
  {
   "cell_type": "code",
   "execution_count": 1,
   "metadata": {},
   "outputs": [],
   "source": [
    "# Import Libriaries and Packages\n",
    "import cv2\n",
    "import os"
   ]
  },
  {
   "cell_type": "code",
   "execution_count": 2,
   "metadata": {},
   "outputs": [],
   "source": [
    "# Create a function to read all the images in given folder\n",
    "def loadImg(folderName) :\n",
    "    images = []\n",
    "    for filename in os.listdir(folderName) :\n",
    "        image = cv2.imread(os.path.join(folderName,filename))\n",
    "        if image is not None :\n",
    "            images.append(image)\n",
    "    return images"
   ]
  },
  {
   "cell_type": "code",
   "execution_count": 3,
   "metadata": {},
   "outputs": [],
   "source": [
    "# Create a function to convert ( images to 256x256x3 )\n",
    "\n",
    "def convertImg(folderName) :\n",
    "    # Retrive data from folders\n",
    "    folderPath = \"./Dataset/Original-Dataset/\"\n",
    "    data = loadImg(folderPath+folderName)\n",
    "#     print(folderPath+folderName)\n",
    "    \n",
    "    # Number of Images\n",
    "    lenData = len(data)\n",
    "#     print('Number of Images in '+folderName+' : '+lenData)\n",
    "    \n",
    "    # Applying FOR loop to convert all images to the above size\n",
    "    for i in range(len(data)) : \n",
    "        inputImg = data[i]\n",
    "        width = int(inputImg.shape[1])\n",
    "        height = int(inputImg.shape[0])\n",
    "    \n",
    "        borderType = cv2.BORDER_CONSTANT\n",
    "        colorBorder = [255, 255, 255]\n",
    "\n",
    "        if (height > width) :\n",
    "            h = int((height-width)/2)\n",
    "            output = cv2.copyMakeBorder(inputImg, 0, 0, h, h, borderType, None, colorBorder) \n",
    "        else :\n",
    "            w = int((width-height)/2)\n",
    "            output = cv2.copyMakeBorder(inputImg, w, w, 0, 0, borderType, None, colorBorder)\n",
    "\n",
    "        width = int(256)\n",
    "        height = int(256)\n",
    "    \n",
    "        dsize = (width, height)\n",
    "        outputImg = cv2.resize(output, dsize)\n",
    "        \n",
    "        folderPath = \"./Dataset/Featured-Dataset/\"\n",
    "        imgName = ('/'+str(i+1)+'.jpg')\n",
    "        filename = folderPath+folderName+imgName\n",
    "        cv2.imwrite(filename, outputImg)\n",
    "    \n",
    "#     print('Task Finished for '+folderName+' !')"
   ]
  },
  {
   "cell_type": "code",
   "execution_count": 4,
   "metadata": {},
   "outputs": [
    {
     "name": "stdout",
     "output_type": "stream",
     "text": [
      "Task Successfuly Completed !\n"
     ]
    }
   ],
   "source": [
    "# Apply for all folder\n",
    "\n",
    "folderPath = \"./Dataset/Original-Dataset/\"\n",
    "fileName = os.listdir(folderPath)\n",
    "\n",
    "for i in range(len(fileName)) :\n",
    "    convertImg(fileName[i])\n",
    "    \n",
    "print('Task Successfuly Completed !')"
   ]
  }
 ],
 "metadata": {
  "kernelspec": {
   "display_name": "Python 3",
   "language": "python",
   "name": "python3"
  },
  "language_info": {
   "codemirror_mode": {
    "name": "ipython",
    "version": 3
   },
   "file_extension": ".py",
   "mimetype": "text/x-python",
   "name": "python",
   "nbconvert_exporter": "python",
   "pygments_lexer": "ipython3",
   "version": "3.8.3"
  }
 },
 "nbformat": 4,
 "nbformat_minor": 4
}
