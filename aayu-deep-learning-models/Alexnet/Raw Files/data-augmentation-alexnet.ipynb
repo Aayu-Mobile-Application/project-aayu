{
 "cells": [
  {
   "cell_type": "markdown",
   "metadata": {},
   "source": [
    "## Data Augmentation for AlexNet"
   ]
  },
  {
   "cell_type": "code",
   "execution_count": 1,
   "metadata": {},
   "outputs": [],
   "source": [
    "# Import Libraries and Packages\n",
    "import os\n",
    "import cv2\n",
    "\n",
    "# For Data Augmentation using Keras\n",
    "from keras.preprocessing.image import ImageDataGenerator, array_to_img, img_to_array, load_img\n",
    "\n",
    "# For Implemenation of the model\n",
    "from keras.models import Sequential\n",
    "from keras.layers import Conv2D, MaxPooling2D\n",
    "from keras.layers import Activation, Dropout, Flatten, Dense"
   ]
  },
  {
   "cell_type": "code",
   "execution_count": 2,
   "metadata": {},
   "outputs": [],
   "source": [
    "# Create a function to read all the images in given folder\n",
    "def loadImg(folderName) :\n",
    "    images = []\n",
    "    for filename in os.listdir(folderName) :\n",
    "        image = cv2.imread(os.path.join(folderName,filename))\n",
    "        if image is not None :\n",
    "            images.append(image)\n",
    "    return images"
   ]
  },
  {
   "cell_type": "code",
   "execution_count": 3,
   "metadata": {},
   "outputs": [
    {
     "name": "stdout",
     "output_type": "stream",
     "text": [
      "['Data-Augmentation', 'Featured-Dataset', 'Original-Dataset']\n"
     ]
    }
   ],
   "source": [
    "listOfFolders = os.listdir('./Dataset')\n",
    "print(listOfFolders)"
   ]
  },
  {
   "cell_type": "code",
   "execution_count": 4,
   "metadata": {},
   "outputs": [
    {
     "name": "stdout",
     "output_type": "stream",
     "text": [
      "['Arjun', 'Guava', 'Jamun', 'Jatropa', 'Lemon', 'Mango']\n"
     ]
    }
   ],
   "source": [
    "listOfSubFolders = os.listdir('./Dataset/Featured-Dataset/')\n",
    "print(listOfSubFolders)"
   ]
  },
  {
   "cell_type": "code",
   "execution_count": 5,
   "metadata": {},
   "outputs": [
    {
     "name": "stdout",
     "output_type": "stream",
     "text": [
      "./Dataset/Data-Augmentation/Guava\n"
     ]
    }
   ],
   "source": [
    "imgFolderName = './Dataset/Data-Augmentation/'+listOfSubFolders[1]\n",
    "print(imgFolderName)"
   ]
  },
  {
   "cell_type": "code",
   "execution_count": 6,
   "metadata": {},
   "outputs": [],
   "source": [
    "datagen = ImageDataGenerator(\n",
    "    rotation_range = 25,\n",
    "    width_shift_range = 0.1,\n",
    "    height_shift_range = 0.1,\n",
    "    shear_range = 0.1,\n",
    "    zoom_range = 0.1,\n",
    "    horizontal_flip = True,\n",
    "    vertical_flip = True,\n",
    "    fill_mode = 'nearest' )"
   ]
  },
  {
   "cell_type": "code",
   "execution_count": 7,
   "metadata": {},
   "outputs": [
    {
     "name": "stdout",
     "output_type": "stream",
     "text": [
      "Source Folder :  ./Dataset/Featured-Dataset/Arjun/\n",
      "Output Folder :  ./Dataset/Data-Augmentation/Arjun\n",
      "Task Completed !\n",
      "\n",
      "Source Folder :  ./Dataset/Featured-Dataset/Guava/\n",
      "Output Folder :  ./Dataset/Data-Augmentation/Guava\n",
      "Task Completed !\n",
      "\n",
      "Source Folder :  ./Dataset/Featured-Dataset/Jamun/\n",
      "Output Folder :  ./Dataset/Data-Augmentation/Jamun\n",
      "Task Completed !\n",
      "\n",
      "Source Folder :  ./Dataset/Featured-Dataset/Jatropa/\n",
      "Output Folder :  ./Dataset/Data-Augmentation/Jatropa\n",
      "Task Completed !\n",
      "\n",
      "Source Folder :  ./Dataset/Featured-Dataset/Lemon/\n",
      "Output Folder :  ./Dataset/Data-Augmentation/Lemon\n",
      "Task Completed !\n",
      "\n",
      "Source Folder :  ./Dataset/Featured-Dataset/Mango/\n",
      "Output Folder :  ./Dataset/Data-Augmentation/Mango\n",
      "Task Completed !\n",
      "\n"
     ]
    }
   ],
   "source": [
    "for i in range(len(listOfSubFolders)) :\n",
    "    imgFolderName = './Dataset/Featured-Dataset/'+listOfSubFolders[i]+'/'\n",
    "    print('Source Folder : ',imgFolderName)\n",
    "    saveFolder = './Dataset/Data-Augmentation/'+listOfSubFolders[i]\n",
    "    print('Output Folder : ',saveFolder)\n",
    "    \n",
    "    listOfImages = loadImg(imgFolderName)\n",
    "    \n",
    "    for x in range(len(listOfImages)) :\n",
    "        imgName = str(i+1)+'.jpg'\n",
    "        imgPath = imgFolderName+imgName\n",
    "    \n",
    "        image = load_img(imgPath)\n",
    "        x = img_to_array(image)\n",
    "        x = x.reshape((1,) + x.shape)\n",
    "        \n",
    "        j = 0\n",
    "        for batch in datagen.flow(x, batch_size = 1, save_to_dir=saveFolder, save_prefix='aayu', save_format='jpg' ) :\n",
    "            j += 1\n",
    "            if j > 10:\n",
    "                break\n",
    "                \n",
    "    print('Task Completed !\\n')"
   ]
  },
  {
   "cell_type": "code",
   "execution_count": 8,
   "metadata": {},
   "outputs": [
    {
     "name": "stdout",
     "output_type": "stream",
     "text": [
      "Number of Image before applying augmentation :  830\n",
      "Number of Image after applying augmentation :  8317\n"
     ]
    }
   ],
   "source": [
    "# Calculate Number of Images\n",
    "numOriginalImg = 0\n",
    "numAugmentedImg = 0\n",
    "for z in range(len(listOfSubFolders)) :\n",
    "    originalFolders = os.listdir('./Dataset/Featured-Dataset/'+listOfSubFolders[z])\n",
    "    numOriginalImg = numOriginalImg + int(len(originalFolders))\n",
    "    \n",
    "    augmentFolders = os.listdir('./Dataset/Data-Augmentation/'+listOfSubFolders[z])\n",
    "    numAugmentedImg = numAugmentedImg + int(len(augmentFolders))\n",
    "\n",
    "print('Number of Image before applying augmentation : ',numOriginalImg)\n",
    "print('Number of Image after applying augmentation : ',numAugmentedImg)"
   ]
  },
  {
   "cell_type": "markdown",
   "metadata": {},
   "source": [
    "### Rename Image with specific format --> number.jpg"
   ]
  },
  {
   "cell_type": "code",
   "execution_count": 9,
   "metadata": {},
   "outputs": [
    {
     "name": "stdout",
     "output_type": "stream",
     "text": [
      "Task Completed !\n"
     ]
    }
   ],
   "source": [
    "for y in range(len(listOfSubFolders)) :\n",
    "    \n",
    "    filepath = './Dataset/Data-Augmentation/'+listOfSubFolders[y]+'/'\n",
    "    allImgName = os.listdir(filepath)\n",
    "    \n",
    "    for z in range(len(allImgName)) :\n",
    "        imgOldName = filepath+allImgName[z]\n",
    "        imgNewName = filepath+str(z+1)+'.jpg'\n",
    "        os.rename(imgOldName,imgNewName)\n",
    "\n",
    "print('Task Completed !')"
   ]
  },
  {
   "cell_type": "code",
   "execution_count": 10,
   "metadata": {},
   "outputs": [
    {
     "name": "stdout",
     "output_type": "stream",
     "text": [
      "[0, 1, 2, 3, 4, 5]\n",
      "{'Arjun': 0, 'Guava': 1, 'Jamun': 2, 'Jatropa': 3, 'Lemon': 4, 'Mango': 5}\n"
     ]
    }
   ],
   "source": [
    "import keras, os, cv2\n",
    "import pandas as pd\n",
    "import numpy as np\n",
    "\n",
    "path = './Dataset/Data-Augmentation/'\n",
    "dataset = os.listdir(path)\n",
    "\n",
    "labels=[i for i in range(len(dataset))]\n",
    "print(labels)\n",
    "label_dict=dict(zip(dataset,labels))\n",
    "print(label_dict)"
   ]
  },
  {
   "cell_type": "code",
   "execution_count": 11,
   "metadata": {},
   "outputs": [],
   "source": [
    "# Create two empty list for images and targets\n",
    "images=[]\n",
    "target=[]\n",
    "\n",
    "# Resize and append Images to the Image list and append label to the Label list\n",
    "for data in dataset :\n",
    "  folderPath = os.path.join(path,data)\n",
    "  imgNames = os.listdir(folderPath)\n",
    "    \n",
    "  for imgName in imgNames:\n",
    "    imgPath = os.path.join(folderPath, imgName)\n",
    "    img = cv2.imread(imgPath)\n",
    "    images.append(img)\n",
    "    target.append(label_dict[data])"
   ]
  },
  {
   "cell_type": "code",
   "execution_count": 12,
   "metadata": {},
   "outputs": [],
   "source": [
    "from keras.utils import np_utils\n",
    "\n",
    "images = np.array(images)\n",
    "target = np.array(target)\n",
    "new_target=np_utils.to_categorical(target)"
   ]
  },
  {
   "cell_type": "code",
   "execution_count": 13,
   "metadata": {},
   "outputs": [],
   "source": [
    "np.save('images',images)\n",
    "np.save('target',new_target)"
   ]
  },
  {
   "cell_type": "code",
   "execution_count": 23,
   "metadata": {},
   "outputs": [
    {
     "data": {
      "text/plain": [
       "10839"
      ]
     },
     "execution_count": 23,
     "metadata": {},
     "output_type": "execute_result"
    }
   ],
   "source": [
    "# Count Number of Images\n",
    "countImg = 0\n",
    "\n",
    "for i in range(len(dataset)) :\n",
    "    folder = path+'/'+dataset[i]\n",
    "    imgName = os.listdir(folder)\n",
    "    countImg = countImg + len(imgName)\n",
    "    \n",
    "countImg"
   ]
  }
 ],
 "metadata": {
  "kernelspec": {
   "display_name": "Python 3",
   "language": "python",
   "name": "python3"
  },
  "language_info": {
   "codemirror_mode": {
    "name": "ipython",
    "version": 3
   },
   "file_extension": ".py",
   "mimetype": "text/x-python",
   "name": "python",
   "nbconvert_exporter": "python",
   "pygments_lexer": "ipython3",
   "version": "3.8.3"
  }
 },
 "nbformat": 4,
 "nbformat_minor": 4
}
