{
 "cells": [
  {
   "cell_type": "markdown",
   "metadata": {},
   "source": [
    "### Dataset Image Resizing using OpenCV2"
   ]
  },
  {
   "cell_type": "code",
   "execution_count": 5,
   "metadata": {},
   "outputs": [],
   "source": [
    "import cv2"
   ]
  },
  {
   "cell_type": "code",
   "execution_count": 6,
   "metadata": {},
   "outputs": [
    {
     "name": "stdout",
     "output_type": "stream",
     "text": [
      "Height :  2008\n",
      "Width :  4248\n"
     ]
    }
   ],
   "source": [
    "img = cv2.imread(\"sample.jpg\", cv2.IMREAD_UNCHANGED)\n",
    "width = int(img.shape[1])\n",
    "height = int(img.shape[0])\n",
    "\n",
    "print('Height : ',height)\n",
    "print('Width : ',width)"
   ]
  },
  {
   "cell_type": "code",
   "execution_count": 8,
   "metadata": {},
   "outputs": [
    {
     "name": "stdout",
     "output_type": "stream",
     "text": [
      "Height Increase\n"
     ]
    }
   ],
   "source": [
    "borderType = cv2.BORDER_CONSTANT\n",
    "colorBorder = [255, 255, 255]\n",
    "\n",
    "if (height > width) :\n",
    "    h = int((height-width)/2)\n",
    "    output = cv2.copyMakeBorder(img, 0, 0, h, h, borderType, None, colorBorder) \n",
    "    print(\"Width Increase\")\n",
    "else :\n",
    "    w = int((width-height)/2)\n",
    "    output = cv2.copyMakeBorder(img, w, w, 0, 0, borderType, None, colorBorder)\n",
    "    print(\"Height Increase\")"
   ]
  },
  {
   "cell_type": "code",
   "execution_count": 9,
   "metadata": {},
   "outputs": [],
   "source": [
    "scale_percent = 60\n",
    "\n",
    "width = int(output.shape[1] * scale_percent / 1000)\n",
    "height = int(output.shape[0] * scale_percent / 1000)\n",
    "\n",
    "dsize = (width, height)\n",
    "\n",
    "outputImg = cv2.resize(output, dsize)"
   ]
  },
  {
   "cell_type": "code",
   "execution_count": 10,
   "metadata": {},
   "outputs": [],
   "source": [
    "cv2.imshow(\"Resized image\", outputImg)\n",
    "cv2.waitKey(0)\n",
    "cv2.destroyAllWindows()"
   ]
  },
  {
   "cell_type": "code",
   "execution_count": 11,
   "metadata": {},
   "outputs": [
    {
     "data": {
      "text/plain": [
       "True"
      ]
     },
     "execution_count": 11,
     "metadata": {},
     "output_type": "execute_result"
    }
   ],
   "source": [
    "filename = 'resizeimg.png'\n",
    "cv2.imwrite(filename, outputImg)"
   ]
  },
  {
   "cell_type": "code",
   "execution_count": 7,
   "metadata": {},
   "outputs": [
    {
     "name": "stdout",
     "output_type": "stream",
     "text": [
      "2.png\n"
     ]
    }
   ],
   "source": [
    "i = 1\n",
    "\n",
    "filename = (str(i+1)+'.png')\n",
    "print(filename)"
   ]
  },
  {
   "cell_type": "code",
   "execution_count": null,
   "metadata": {},
   "outputs": [],
   "source": []
  }
 ],
 "metadata": {
  "kernelspec": {
   "display_name": "Python 3",
   "language": "python",
   "name": "python3"
  },
  "language_info": {
   "codemirror_mode": {
    "name": "ipython",
    "version": 3
   },
   "file_extension": ".py",
   "mimetype": "text/x-python",
   "name": "python",
   "nbconvert_exporter": "python",
   "pygments_lexer": "ipython3",
   "version": "3.8.3"
  }
 },
 "nbformat": 4,
 "nbformat_minor": 4
}
