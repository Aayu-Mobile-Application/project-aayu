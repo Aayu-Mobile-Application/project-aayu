{
 "cells": [
  {
   "cell_type": "code",
   "execution_count": 1,
   "metadata": {},
   "outputs": [],
   "source": [
    "import datetime\n",
    "import numpy as np\n",
    "import tensorflow as tf\n",
    "import matplotlib.pyplot as plt\n",
    "from PIL import Image\n",
    "import os\n",
    "\n",
    "from tensorflow.keras import Model\n",
    "from tensorflow.keras.models import Sequential\n",
    "from tensorflow.keras.utils import to_categorical\n",
    "from tensorflow.keras.losses import categorical_crossentropy\n",
    "from tensorflow.keras.preprocessing.image import ImageDataGenerator\n",
    "from tensorflow.keras.layers import Dense, Flatten, Conv2D, MaxPooling2D, Dropout"
   ]
  },
  {
   "cell_type": "code",
   "execution_count": 2,
   "metadata": {},
   "outputs": [],
   "source": [
    "num_classes = 3\n",
    "input_shape = (227,227,3)\n",
    "imgWidth = 227\n",
    "imgHeight = 227\n",
    "\n",
    "# AlexNet model\n",
    "class AlexNet(Sequential):\n",
    "    def __init__(self, input_shape, num_classes):\n",
    "        super().__init__()\n",
    "\n",
    "        self.add(Conv2D(96, kernel_size=(11,11), strides= 4,\n",
    "                        padding= 'valid', activation= 'relu',\n",
    "                        input_shape= input_shape,\n",
    "                        kernel_initializer= 'he_normal'))\n",
    "        self.add(MaxPooling2D(pool_size=(3,3), strides= (2,2),\n",
    "                              padding= 'valid', data_format= None))\n",
    "\n",
    "        self.add(Conv2D(256, kernel_size=(5,5), strides= 1,\n",
    "                        padding= 'same', activation= 'relu',\n",
    "                        kernel_initializer= 'he_normal'))\n",
    "        self.add(MaxPooling2D(pool_size=(3,3), strides= (2,2),\n",
    "                              padding= 'valid', data_format= None)) \n",
    "\n",
    "        self.add(Conv2D(384, kernel_size=(3,3), strides= 1,\n",
    "                        padding= 'same', activation= 'relu',\n",
    "                        kernel_initializer= 'he_normal'))\n",
    "\n",
    "        self.add(Conv2D(384, kernel_size=(3,3), strides= 1,\n",
    "                        padding= 'same', activation= 'relu',\n",
    "                        kernel_initializer= 'he_normal'))\n",
    "\n",
    "        self.add(Conv2D(256, kernel_size=(3,3), strides= 1,\n",
    "                        padding= 'same', activation= 'relu',\n",
    "                        kernel_initializer= 'he_normal'))\n",
    "\n",
    "        self.add(MaxPooling2D(pool_size=(3,3), strides= (2,2),\n",
    "                              padding= 'valid', data_format= None))\n",
    "\n",
    "        self.add(Flatten())\n",
    "        self.add(Dense(4096, activation= 'relu'))\n",
    "        self.add(Dense(4096, activation= 'relu'))\n",
    "        self.add(Dense(1000, activation= 'relu'))\n",
    "        self.add(Dense(num_classes, activation= 'softmax'))\n",
    "\n",
    "        self.compile(optimizer= tf.keras.optimizers.Adam(0.001),\n",
    "                    loss='categorical_crossentropy',\n",
    "                    metrics=['accuracy'])\n",
    "model = AlexNet(input_shape, num_classes)"
   ]
  },
  {
   "cell_type": "code",
   "execution_count": 3,
   "metadata": {},
   "outputs": [
    {
     "name": "stderr",
     "output_type": "stream",
     "text": [
      "C:\\Users\\my\\anaconda3\\lib\\site-packages\\keras_preprocessing\\image\\image_data_generator.py:720: UserWarning: This ImageDataGenerator specifies `featurewise_center`, but it hasn't been fit on any training data. Fit it first by calling `.fit(numpy_data)`.\n",
      "  warnings.warn('This ImageDataGenerator specifies '\n",
      "C:\\Users\\my\\anaconda3\\lib\\site-packages\\keras_preprocessing\\image\\image_data_generator.py:728: UserWarning: This ImageDataGenerator specifies `featurewise_std_normalization`, but it hasn't been fit on any training data. Fit it first by calling `.fit(numpy_data)`.\n",
      "  warnings.warn('This ImageDataGenerator specifies '\n"
     ]
    }
   ],
   "source": [
    "from keras.preprocessing.image import ImageDataGenerator, array_to_img, img_to_array, load_img\n",
    "\n",
    "datagen = ImageDataGenerator(\n",
    "    featurewise_center=True,\n",
    "    featurewise_std_normalization=True,\n",
    "    width_shift_range=0.1,\n",
    "    height_shift_range=0.1,\n",
    "    horizontal_flip=True,\n",
    "    vertical_flip=True\n",
    ")\n",
    "\n",
    "featuredDataset = './Dataset/Featured/'\n",
    "augmentedDataset = './Dataset/Augmented/'\n",
    "dataset = os.listdir(featuredDataset)\n",
    "\n",
    "for data in dataset:\n",
    "    pathData = os.path.join(featuredDataset,data)\n",
    "    allImages = os.listdir(pathData)\n",
    "    savePath = os.path.join(augmentedDataset,data)\n",
    "    \n",
    "    for image in allImages:\n",
    "        imagePath = os.path.join(pathData,image)\n",
    "        img = load_img(imagePath)\n",
    "        x = img_to_array(img)\n",
    "        x = x.reshape((1,) + x.shape)\n",
    "        \n",
    "        i = 0\n",
    "        for batch in datagen.flow(\n",
    "            x,\n",
    "            batch_size=1,\n",
    "            save_to_dir = savePath \n",
    "            ,save_format = 'jpg') :\n",
    "            \n",
    "            i += 1\n",
    "            if i > 6:\n",
    "                break"
   ]
  },
  {
   "cell_type": "code",
   "execution_count": 4,
   "metadata": {},
   "outputs": [
    {
     "name": "stdout",
     "output_type": "stream",
     "text": [
      "[0, 1, 2]\n",
      "{'Jatropa': 0, 'KudaluDehi': 1, 'Mango': 2}\n"
     ]
    }
   ],
   "source": [
    "import keras, os, cv2\n",
    "import pandas as pd\n",
    "import numpy as np\n",
    "\n",
    "datasets = os.listdir(augmentedDataset)\n",
    "\n",
    "labels=[i for i in range(len(datasets))]\n",
    "print(labels)\n",
    "label_dict=dict(zip(datasets,labels))\n",
    "print(label_dict)"
   ]
  },
  {
   "cell_type": "code",
   "execution_count": 5,
   "metadata": {
    "scrolled": true
   },
   "outputs": [],
   "source": [
    "# Create two empty list for images and targets\n",
    "images=[]\n",
    "target=[]\n",
    "\n",
    "# Resize and append Images to the Image list and append label to the Label list\n",
    "for plant in datasets:\n",
    "  folderPath = os.path.join(augmentedDataset,plant)\n",
    "  imgNames = os.listdir(folderPath)\n",
    "    \n",
    "  for imgName in imgNames:\n",
    "    imgPath = os.path.join(folderPath, imgName)\n",
    "    img = cv2.imread(imgPath)\n",
    "    images.append(img)\n",
    "    target.append(label_dict[plant])"
   ]
  },
  {
   "cell_type": "code",
   "execution_count": 6,
   "metadata": {},
   "outputs": [],
   "source": [
    "from keras.utils import np_utils\n",
    "\n",
    "images = np.array(images)\n",
    "target = np.array(target)\n",
    "# target = target.reshape(len(target),1)"
   ]
  },
  {
   "cell_type": "code",
   "execution_count": 7,
   "metadata": {},
   "outputs": [
    {
     "name": "stdout",
     "output_type": "stream",
     "text": [
      "((2937, 227, 227, 3), (2937,))\n",
      "((1259, 227, 227, 3), (1259,))\n",
      "((1799, 227, 227, 3), (1799,))\n"
     ]
    }
   ],
   "source": [
    "from sklearn.model_selection import train_test_split\n",
    "x_train,x_test,y_train,y_test=train_test_split(images,target,test_size=.3)\n",
    "x_train,x_val,y_train,y_val=train_test_split(x_train,y_train,test_size=.3)\n",
    "\n",
    "#Dimension of the CIFAR10 dataset\n",
    "print((x_train.shape,y_train.shape))\n",
    "print((x_val.shape,y_val.shape))\n",
    "print((x_test.shape,y_test.shape))"
   ]
  },
  {
   "cell_type": "code",
   "execution_count": 8,
   "metadata": {},
   "outputs": [
    {
     "name": "stdout",
     "output_type": "stream",
     "text": [
      "((2937, 227, 227, 3), (2937, 3))\n",
      "((1259, 227, 227, 3), (1259, 3))\n",
      "((1799, 227, 227, 3), (1799, 3))\n"
     ]
    }
   ],
   "source": [
    "#Onehot Encoding the labels.\n",
    "from sklearn.utils.multiclass import unique_labels\n",
    "from keras.utils import to_categorical\n",
    "\n",
    "#Since we have 10 classes we should expect the shape[1] of y_train,y_val and y_test to change from 1 to 10\n",
    "y_train = to_categorical(y_train,num_classes)\n",
    "y_val = to_categorical(y_val,num_classes)\n",
    "y_test = to_categorical(y_test,num_classes)\n",
    "\n",
    "#Verifying the dimension after one hot encoding\n",
    "print((x_train.shape,y_train.shape))\n",
    "print((x_val.shape,y_val.shape))\n",
    "print((x_test.shape,y_test.shape))"
   ]
  },
  {
   "cell_type": "code",
   "execution_count": 9,
   "metadata": {},
   "outputs": [],
   "source": [
    "# Training Parameters\n",
    "EPOCHS = 25\n",
    "BATCH_SIZE = 100\n",
    "image_height = 227\n",
    "image_width = 227"
   ]
  },
  {
   "cell_type": "code",
   "execution_count": 10,
   "metadata": {
    "scrolled": true
   },
   "outputs": [
    {
     "name": "stdout",
     "output_type": "stream",
     "text": [
      "Epoch 1/25\n",
      "29/29 [==============================] - 125s 4s/step - loss: 15135.5172 - accuracy: 0.3602 - val_loss: 2.3386 - val_accuracy: 0.2857\n",
      "Epoch 2/25\n",
      "29/29 [==============================] - 115s 4s/step - loss: 1.1670 - accuracy: 0.5360 - val_loss: 0.3269 - val_accuracy: 0.8503\n",
      "Epoch 3/25\n",
      "29/29 [==============================] - 111s 4s/step - loss: 0.2646 - accuracy: 0.9055 - val_loss: 0.1294 - val_accuracy: 0.9507\n",
      "Epoch 4/25\n",
      "29/29 [==============================] - 113s 4s/step - loss: 0.0713 - accuracy: 0.9741 - val_loss: 0.0987 - val_accuracy: 0.9677\n",
      "Epoch 5/25\n",
      "29/29 [==============================] - 113s 4s/step - loss: 0.3100 - accuracy: 0.9061 - val_loss: 0.0506 - val_accuracy: 0.9847\n",
      "Epoch 6/25\n",
      "29/29 [==============================] - 113s 4s/step - loss: 0.0371 - accuracy: 0.9911 - val_loss: 0.0369 - val_accuracy: 0.9881\n",
      "Epoch 7/25\n",
      "29/29 [==============================] - 113s 4s/step - loss: 0.0131 - accuracy: 0.9977 - val_loss: 0.0218 - val_accuracy: 0.9932\n",
      "Epoch 8/25\n",
      "29/29 [==============================] - 113s 4s/step - loss: 0.0086 - accuracy: 0.9988 - val_loss: 0.0112 - val_accuracy: 0.9966\n",
      "Epoch 9/25\n",
      "29/29 [==============================] - 114s 4s/step - loss: 8.8827e-04 - accuracy: 0.9998 - val_loss: 7.6206e-04 - val_accuracy: 1.0000\n",
      "Epoch 10/25\n",
      "29/29 [==============================] - 113s 4s/step - loss: 5.5826e-04 - accuracy: 1.0000 - val_loss: 0.0153 - val_accuracy: 0.9966\n",
      "Epoch 11/25\n",
      "29/29 [==============================] - 114s 4s/step - loss: 0.0064 - accuracy: 0.9981 - val_loss: 0.1104 - val_accuracy: 0.9575\n",
      "Epoch 12/25\n",
      "29/29 [==============================] - 115s 4s/step - loss: 0.0443 - accuracy: 0.9823 - val_loss: 0.2407 - val_accuracy: 0.9150\n",
      "Epoch 13/25\n",
      "29/29 [==============================] - 113s 4s/step - loss: 0.1180 - accuracy: 0.9671 - val_loss: 0.0163 - val_accuracy: 0.9966\n",
      "Epoch 14/25\n",
      "29/29 [==============================] - 114s 4s/step - loss: 0.0048 - accuracy: 0.9984 - val_loss: 0.0126 - val_accuracy: 0.9949\n",
      "Epoch 15/25\n",
      "29/29 [==============================] - 115s 4s/step - loss: 0.0090 - accuracy: 0.9975 - val_loss: 0.0049 - val_accuracy: 1.0000\n",
      "Epoch 16/25\n",
      "29/29 [==============================] - 115s 4s/step - loss: 0.0014 - accuracy: 1.0000 - val_loss: 8.1916e-04 - val_accuracy: 1.0000\n",
      "Epoch 17/25\n",
      "29/29 [==============================] - 115s 4s/step - loss: 6.2484e-04 - accuracy: 1.0000 - val_loss: 0.0013 - val_accuracy: 1.0000\n",
      "Epoch 18/25\n",
      "29/29 [==============================] - 114s 4s/step - loss: 4.2983e-05 - accuracy: 1.0000 - val_loss: 6.6306e-04 - val_accuracy: 1.0000\n",
      "Epoch 19/25\n",
      "29/29 [==============================] - 114s 4s/step - loss: 2.2422e-05 - accuracy: 1.0000 - val_loss: 3.9580e-04 - val_accuracy: 1.0000\n",
      "Epoch 20/25\n",
      "29/29 [==============================] - 115s 4s/step - loss: 2.2244e-05 - accuracy: 1.0000 - val_loss: 2.9282e-04 - val_accuracy: 1.0000\n",
      "Epoch 21/25\n",
      "29/29 [==============================] - 114s 4s/step - loss: 1.2497e-05 - accuracy: 1.0000 - val_loss: 2.2093e-04 - val_accuracy: 1.0000\n",
      "Epoch 22/25\n",
      "29/29 [==============================] - 114s 4s/step - loss: 1.3729e-05 - accuracy: 1.0000 - val_loss: 1.8248e-04 - val_accuracy: 1.0000\n",
      "Epoch 23/25\n",
      "29/29 [==============================] - 114s 4s/step - loss: 9.2748e-06 - accuracy: 1.0000 - val_loss: 1.5478e-04 - val_accuracy: 1.0000\n",
      "Epoch 24/25\n",
      "29/29 [==============================] - 114s 4s/step - loss: 8.2239e-06 - accuracy: 1.0000 - val_loss: 1.3329e-04 - val_accuracy: 1.0000\n",
      "Epoch 25/25\n",
      "29/29 [==============================] - 116s 4s/step - loss: 6.0138e-06 - accuracy: 1.0000 - val_loss: 1.2113e-04 - val_accuracy: 1.0000\n"
     ]
    }
   ],
   "source": [
    "# Training the model\n",
    "hist = model.fit(\n",
    "    x_train, y_train,\n",
    "    epochs = EPOCHS,\n",
    "    steps_per_epoch = x_train.shape[0]//BATCH_SIZE,\n",
    "    validation_split=0.2,\n",
    "    validation_steps = x_test.shape[0]//BATCH_SIZE,\n",
    "    verbose=1,\n",
    ")"
   ]
  },
  {
   "cell_type": "code",
   "execution_count": 11,
   "metadata": {},
   "outputs": [
    {
     "data": {
      "image/png": "[encoded data removed]",
      "text/plain": [
       "<Figure size 432x288 with 1 Axes>"
      ]
     },
     "metadata": {
      "needs_background": "light"
     },
     "output_type": "display_data"
    }
   ],
   "source": [
    "# Plot Graph\n",
    "from matplotlib import pyplot as plt\n",
    "\n",
    "plt.plot(hist.history['accuracy'],'r',label='training accuracy')\n",
    "plt.plot(hist.history['val_accuracy'],label='validation accuracy')\n",
    "plt.xlabel('Number of Epochs')\n",
    "plt.ylabel('Accuracy')\n",
    "plt.legend()\n",
    "plt.show()"
   ]
  },
  {
   "cell_type": "code",
   "execution_count": 12,
   "metadata": {},
   "outputs": [
    {
     "data": {
      "image/png": "[encoded data removed]",
      "text/plain": [
       "<Figure size 432x288 with 1 Axes>"
      ]
     },
     "metadata": {
      "needs_background": "light"
     },
     "output_type": "display_data"
    }
   ],
   "source": [
    "plt.plot(hist.history['loss'],'r',label='training loss')\n",
    "plt.plot(hist.history['val_loss'],label='validation loss')\n",
    "plt.xlabel('Number of Epochs')\n",
    "plt.ylabel('Loss')\n",
    "plt.legend()\n",
    "plt.show()"
   ]
  },
  {
   "cell_type": "code",
   "execution_count": 13,
   "metadata": {},
   "outputs": [
    {
     "name": "stderr",
     "output_type": "stream",
     "text": [
      "C:\\Users\\my\\AppData\\Roaming\\Python\\Python38\\site-packages\\tensorflow\\python\\keras\\engine\\sequential.py:450: UserWarning: `model.predict_classes()` is deprecated and will be removed after 2021-01-01. Please use instead:* `np.argmax(model.predict(x), axis=-1)`,   if your model does multi-class classification   (e.g. if it uses a `softmax` last-layer activation).* `(model.predict(x) > 0.5).astype(\"int32\")`,   if your model does binary classification   (e.g. if it uses a `sigmoid` last-layer activation).\n",
      "  warnings.warn('`model.predict_classes()` is deprecated and '\n"
     ]
    }
   ],
   "source": [
    "y_pred=model.predict_classes(x_test)\n",
    "y_true=np.argmax(y_test,axis=1)"
   ]
  },
  {
   "cell_type": "code",
   "execution_count": 14,
   "metadata": {},
   "outputs": [
    {
     "data": {
      "text/plain": [
       "1.0"
      ]
     },
     "execution_count": 14,
     "metadata": {},
     "output_type": "execute_result"
    }
   ],
   "source": [
    "#Classification accuracy\n",
    "from sklearn.metrics import accuracy_score\n",
    "acc_score = (accuracy_score(y_true, y_pred))\n",
    "acc_score"
   ]
  },
  {
   "cell_type": "code",
   "execution_count": 15,
   "metadata": {},
   "outputs": [],
   "source": [
    "#Defining function for confusion matrix plot\n",
    "import matplotlib.pyplot as plt  \n",
    "\n",
    "def plot_confusion_matrix(y_true, y_pred, classes,\n",
    "                          normalize=True,\n",
    "                          title=None,\n",
    "                          cmap=plt.cm.Blues):\n",
    "    if not title:\n",
    "        if normalize:\n",
    "            title = 'Normalized confusion matrix'\n",
    "        else:\n",
    "            title = 'Confusion matrix, without normalization'\n",
    "\n",
    "    # Compute confusion matrix\n",
    "    cm = confusion_matrix(y_true, y_pred)\n",
    "    if normalize:\n",
    "        cm = cm.astype('float') / cm.sum(axis=1)[:, np.newaxis]\n",
    "        print(\"Normalized confusion matrix\")\n",
    "    else:\n",
    "        print('Confusion matrix, without normalization')\n",
    "\n",
    "#Print Confusion matrix\n",
    "    fig, ax = plt.subplots(figsize=(7,7))\n",
    "    im = ax.imshow(cm, interpolation='nearest', cmap=cmap)\n",
    "    ax.figure.colorbar(im, ax=ax)\n",
    "    # We want to show all ticks...\n",
    "    ax.set(xticks=np.arange(cm.shape[1]),\n",
    "           yticks=np.arange(cm.shape[0]),\n",
    "           xticklabels=classes, yticklabels=classes,\n",
    "           title=title,\n",
    "           ylabel='True label',\n",
    "           xlabel='Predicted label')\n",
    "\n",
    "    # Rotate the tick labels and set their alignment.\n",
    "    plt.setp(ax.get_xticklabels(), rotation=45, ha=\"right\",\n",
    "             rotation_mode=\"anchor\")\n",
    "    # Loop over data dimensions and create text annotations.\n",
    "    fmt = '.2f' if normalize else 'd'\n",
    "    thresh = cm.max() / 2.\n",
    "    for i in range(cm.shape[0]):\n",
    "        for j in range(cm.shape[1]):\n",
    "            ax.text(j, i, format(cm[i, j], fmt),\n",
    "                    ha=\"center\", va=\"center\",\n",
    "                    color=\"white\" if cm[i, j] > thresh else \"black\")\n",
    "    fig.tight_layout()\n",
    "    return ax\n",
    "\n",
    "np.set_printoptions(precision=2)"
   ]
  },
  {
   "cell_type": "code",
   "execution_count": 16,
   "metadata": {},
   "outputs": [
    {
     "name": "stdout",
     "output_type": "stream",
     "text": [
      "Normalized confusion matrix\n"
     ]
    },
    {
     "data": {
      "text/plain": [
       "<AxesSubplot:title={'center':'Confusion matrix'}, xlabel='Predicted label', ylabel='True label'>"
      ]
     },
     "execution_count": 16,
     "metadata": {},
     "output_type": "execute_result"
    },
    {
     "data": {
      "image/png": "[encoded data removed]",
      "text/plain": [
       "<Figure size 504x504 with 2 Axes>"
      ]
     },
     "metadata": {
      "needs_background": "light"
     },
     "output_type": "display_data"
    }
   ],
   "source": [
    "# Making prediction\n",
    "y_pred=model.predict_classes(x_test)\n",
    "y_true=np.argmax(y_test,axis=1)\n",
    "\n",
    "#Plotting the confusion matrix\n",
    "from sklearn.metrics import confusion_matrix\n",
    "confusion_mtx=confusion_matrix(y_true,y_pred)\n",
    "\n",
    "class_names=['Jatropa', 'KudaluDehi', 'Mango']\n",
    "\n",
    "# Plotting non-normalized confusion matrix\n",
    "plot_confusion_matrix(y_true, y_pred, classes = class_names,title = 'Confusion matrix')"
   ]
  },
  {
   "cell_type": "code",
   "execution_count": 17,
   "metadata": {},
   "outputs": [],
   "source": [
    "# Make Predictions\n",
    "\n",
    "def prediction(model,image):\n",
    "    \n",
    "    imagePath = image\n",
    "    img = cv2.imread(image)\n",
    "    \n",
    "    width = int(img.shape[1])\n",
    "    height = int(img.shape[0])\n",
    "    \n",
    "    borderType = cv2.BORDER_CONSTANT\n",
    "    colorBorder = [255, 255, 255]\n",
    "    increaseSize = 500\n",
    "\n",
    "    if (height > width) :\n",
    "        h = int((height-width)/2)\n",
    "        hmax = int(h + increaseSize)\n",
    "        output = cv2.copyMakeBorder(img, increaseSize, increaseSize, hmax, hmax, borderType, None, colorBorder)\n",
    "    elif (height < width) :\n",
    "        w = int((width-height)/2)\n",
    "        wmax = int(w + increaseSize)\n",
    "        output = cv2.copyMakeBorder(img, wmax, wmax, increaseSize, increaseSize, borderType, None, colorBorder)\n",
    "    else :\n",
    "        output = cv2.copyMakeBorder(img, 0, 0, 0, 0, borderType, None, colorBorder)\n",
    "        \n",
    "        # Resize to Alexnet Image Size\n",
    "        width = int(227)\n",
    "        height = int(227)\n",
    "    \n",
    "        dsize = (width, height)\n",
    "        outputImg = cv2.resize(output, dsize)\n",
    "    \n",
    "    images = []\n",
    "    images.append(outputImg)\n",
    "    imgArr = np.array(images)\n",
    "    \n",
    "    prediction = model.predict(imgArr)\n",
    "\n",
    "    return prediction"
   ]
  },
  {
   "cell_type": "code",
   "execution_count": 18,
   "metadata": {},
   "outputs": [
    {
     "data": {
      "text/plain": [
       "array([[1.17e-13, 1.00e+00, 1.92e-10]], dtype=float32)"
      ]
     },
     "execution_count": 18,
     "metadata": {},
     "output_type": "execute_result"
    }
   ],
   "source": [
    "prediction(model,'./Dataset/TestData/1.jpg') # Kudalu Dehi"
   ]
  },
  {
   "cell_type": "code",
   "execution_count": 19,
   "metadata": {},
   "outputs": [
    {
     "data": {
      "text/plain": [
       "array([[1.17e-13, 1.00e+00, 1.92e-10]], dtype=float32)"
      ]
     },
     "execution_count": 19,
     "metadata": {},
     "output_type": "execute_result"
    }
   ],
   "source": [
    "prediction(model,'./Dataset/TestData/1.jpg')"
   ]
  },
  {
   "cell_type": "code",
   "execution_count": 20,
   "metadata": {},
   "outputs": [
    {
     "data": {
      "text/plain": [
       "array([[1.17e-13, 1.00e+00, 1.92e-10]], dtype=float32)"
      ]
     },
     "execution_count": 20,
     "metadata": {},
     "output_type": "execute_result"
    }
   ],
   "source": [
    "prediction(model,'./Dataset/TestData/1.jpg')"
   ]
  },
  {
   "cell_type": "code",
   "execution_count": 21,
   "metadata": {},
   "outputs": [],
   "source": [
    "# Save Model as .h5 file\n",
    "modelName = 'alexnet-aayu.h5'\n",
    "keras.models.save_model(model, modelName)"
   ]
  },
  {
   "cell_type": "code",
   "execution_count": 22,
   "metadata": {},
   "outputs": [
    {
     "name": "stdout",
     "output_type": "stream",
     "text": [
      "INFO:tensorflow:Assets written to: C:\\Users\\my\\AppData\\Local\\Temp\\tmpk7m93tix\\assets\n"
     ]
    },
    {
     "data": {
      "text/plain": [
       "249530860"
      ]
     },
     "execution_count": 22,
     "metadata": {},
     "output_type": "execute_result"
    }
   ],
   "source": [
    "# Convert Model to .tflite\n",
    "\n",
    "TF_LITE_MODEL_FILE_NAME = \"./alexnet-aayu.tflite\"\n",
    "\n",
    "tf_lite_converter = tf.lite.TFLiteConverter.from_keras_model(model)\n",
    "tflite_model = tf_lite_converter.convert()\n",
    "\n",
    "tflite_model_name = TF_LITE_MODEL_FILE_NAME\n",
    "open(tflite_model_name, \"wb\").write(tflite_model)"
   ]
  }
 ],
 "metadata": {
  "kernelspec": {
   "display_name": "Python 3",
   "language": "python",
   "name": "python3"
  },
  "language_info": {
   "codemirror_mode": {
    "name": "ipython",
    "version": 3
   },
   "file_extension": ".py",
   "mimetype": "text/x-python",
   "name": "python",
   "nbconvert_exporter": "python",
   "pygments_lexer": "ipython3",
   "version": "3.8.5"
  }
 },
 "nbformat": 4,
 "nbformat_minor": 4
}
