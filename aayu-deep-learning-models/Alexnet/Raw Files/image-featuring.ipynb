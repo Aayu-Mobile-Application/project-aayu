{
 "cells": [
  {
   "cell_type": "code",
   "execution_count": 1,
   "metadata": {},
   "outputs": [],
   "source": [
    "import cv2\n",
    "import os"
   ]
  },
  {
   "cell_type": "code",
   "execution_count": 2,
   "metadata": {},
   "outputs": [],
   "source": [
    "def load_images_from_folder(folder):\n",
    "    images = []\n",
    "    for filename in os.listdir(folder):\n",
    "        img = cv2.imread(os.path.join(folder,filename))\n",
    "        if img is not None:\n",
    "            images.append(img)\n",
    "#             print(filename)\n",
    "    return images"
   ]
  },
  {
   "cell_type": "code",
   "execution_count": 3,
   "metadata": {},
   "outputs": [],
   "source": [
    "data =  load_images_from_folder(\"./Mango\")"
   ]
  },
  {
   "cell_type": "code",
   "execution_count": 7,
   "metadata": {},
   "outputs": [
    {
     "name": "stdout",
     "output_type": "stream",
     "text": [
      "170\n"
     ]
    }
   ],
   "source": [
    "print(len(data))"
   ]
  },
  {
   "cell_type": "code",
   "execution_count": 14,
   "metadata": {},
   "outputs": [
    {
     "name": "stdout",
     "output_type": "stream",
     "text": [
      "Height :  1440\n",
      "Width :  5759\n"
     ]
    }
   ],
   "source": [
    "inputImg = data[0]\n",
    "width = int(inputImg.shape[1])\n",
    "height = int(inputImg.shape[0])\n",
    "\n",
    "print('Height : ',height)\n",
    "print('Width : ',width)"
   ]
  },
  {
   "cell_type": "code",
   "execution_count": 15,
   "metadata": {},
   "outputs": [
    {
     "name": "stdout",
     "output_type": "stream",
     "text": [
      "Height Increase\n"
     ]
    }
   ],
   "source": [
    "borderType = cv2.BORDER_CONSTANT\n",
    "colorBorder = [255, 255, 255]\n",
    "\n",
    "if (height > width) :\n",
    "    h = int((height-width)/2)\n",
    "    output = cv2.copyMakeBorder(inputImg, 0, 0, h, h, borderType, None, colorBorder) \n",
    "    print(\"Width Increase\")\n",
    "else :\n",
    "    w = int((width-height)/2)\n",
    "    output = cv2.copyMakeBorder(inputImg, w, w, 0, 0, borderType, None, colorBorder)\n",
    "    print(\"Height Increase\")"
   ]
  },
  {
   "cell_type": "code",
   "execution_count": 16,
   "metadata": {},
   "outputs": [],
   "source": [
    "scale_percent = 60\n",
    "width = int(output.shape[1] * scale_percent / 1000)\n",
    "height = int(output.shape[0] * scale_percent / 1000)\n",
    "dsize = (width, height)\n",
    "outputImg = cv2.resize(output, dsize)"
   ]
  },
  {
   "cell_type": "code",
   "execution_count": 17,
   "metadata": {},
   "outputs": [],
   "source": [
    "# Display Image using OpenCV2\n",
    "cv2.imshow(\"Preview Image\", outputImg)\n",
    "cv2.waitKey(0)\n",
    "cv2.destroyAllWindows()"
   ]
  },
  {
   "cell_type": "code",
   "execution_count": 20,
   "metadata": {},
   "outputs": [
    {
     "name": "stdout",
     "output_type": "stream",
     "text": [
      "['.ipynb_checkpoints', 'Arjun', 'Basil', 'Chinar', 'data-clearance.ipynb', 'Guava', 'image-featuring.ipynb', 'image-resize.ipynb', 'Jamun', 'Jatropa', 'Lemon', 'Mango']\n"
     ]
    }
   ],
   "source": [
    "fileName = os.listdir()\n",
    "print(fileName)"
   ]
  },
  {
   "cell_type": "code",
   "execution_count": null,
   "metadata": {},
   "outputs": [],
   "source": []
  }
 ],
 "metadata": {
  "kernelspec": {
   "display_name": "Python 3",
   "language": "python",
   "name": "python3"
  },
  "language_info": {
   "codemirror_mode": {
    "name": "ipython",
    "version": 3
   },
   "file_extension": ".py",
   "mimetype": "text/x-python",
   "name": "python",
   "nbconvert_exporter": "python",
   "pygments_lexer": "ipython3",
   "version": "3.8.3"
  }
 },
 "nbformat": 4,
 "nbformat_minor": 4
}
