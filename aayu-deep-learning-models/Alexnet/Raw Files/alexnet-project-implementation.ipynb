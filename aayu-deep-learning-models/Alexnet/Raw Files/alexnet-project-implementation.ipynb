{
 "cells": [
  {
   "cell_type": "code",
   "execution_count": 91,
   "metadata": {},
   "outputs": [],
   "source": [
    "# load and evaluate a saved model\n",
    "from numpy import loadtxt\n",
    "from keras.models import load_model\n",
    " \n",
    "# load model\n",
    "model = load_model('alexnet-model.h5')"
   ]
  },
  {
   "cell_type": "code",
   "execution_count": 92,
   "metadata": {},
   "outputs": [],
   "source": [
    "# pre-procesing image before prediction - part 1\n",
    "import os, cv2\n",
    "\n",
    "def process_img(inputImg):\n",
    "    \n",
    "    # Border type, colour and increasing size\n",
    "    borderType = cv2.BORDER_CONSTANT\n",
    "    colorBorder = [255, 255, 255]\n",
    "    increaseSize = 500\n",
    "    \n",
    "    # Getting Image Resolution\n",
    "    widthImg = inputImg.shape[1]\n",
    "    heightImg = inputImg.shape[0]\n",
    "        \n",
    "    # Increase border size and center image\n",
    "    if (widthImg > heightImg):\n",
    "        r = widthImg-heightImg\n",
    "        rmax = r+increaseSize\n",
    "        inputImg = cv2.copyMakeBorder(\n",
    "            inputImg, rmax, rmax, increaseSize,\n",
    "            increaseSize, borderType, None, colorBorder)\n",
    "    else:\n",
    "        r = heightImg-widthImg\n",
    "        rmax = r+increaseSize\n",
    "        inputImg = cv2.copyMakeBorder(\n",
    "            inputImg, increaseSize, increaseSize,\n",
    "            rmax, rmax, borderType, None, colorBorder)\n",
    "        \n",
    "    # Resize Image into 227 x 227\n",
    "    imgSize = 227,227\n",
    "    inputImg = cv2.resize(inputImg, imgSize)\n",
    "    \n",
    "    filename = 'output.jpg'\n",
    "    cv2.imwrite(filename, inputImg)"
   ]
  },
  {
   "cell_type": "code",
   "execution_count": 93,
   "metadata": {},
   "outputs": [],
   "source": [
    "# pre-procesing image before prediction - part 2\n",
    "import numpy as np\n",
    "\n",
    "def img_process(inputImg):\n",
    "    image = []\n",
    "    image.append(inputImg)\n",
    "    outputImg = np.array(image)\n",
    "    return outputImg"
   ]
  },
  {
   "cell_type": "code",
   "execution_count": 94,
   "metadata": {},
   "outputs": [],
   "source": [
    "# Testing Function\n",
    "inputImg1 = cv2.imread('./sample.jpg')\n",
    "inputImg2 = cv2.imread('./output.jpg')\n",
    "process_img(inputImg1)\n",
    "im = img_process(inputImg2)"
   ]
  },
  {
   "cell_type": "code",
   "execution_count": 95,
   "metadata": {},
   "outputs": [],
   "source": [
    "# Read Image and Preview\n",
    "img = cv2.imread(\"./output.jpg\")\n",
    "cv2.imshow(\"Resized image\", img)\n",
    "cv2.waitKey(0)\n",
    "cv2.destroyAllWindows()"
   ]
  },
  {
   "cell_type": "code",
   "execution_count": 96,
   "metadata": {
    "scrolled": true
   },
   "outputs": [
    {
     "name": "stdout",
     "output_type": "stream",
     "text": [
      "Arjun\n"
     ]
    }
   ],
   "source": [
    "outputLabel = model.predict(im)\n",
    "outputList = outputLabel[0].tolist()\n",
    "maxValue = max(outputList)\n",
    "place = outputList.index(maxValue)\n",
    "\n",
    "if (maxValue > 0.5):\n",
    "    if (place == 0):\n",
    "        print('Arjun')\n",
    "    elif (place == 1):\n",
    "        print('Basil')\n",
    "    elif (place == 2):\n",
    "        print('Chinar')\n",
    "    elif (place == 3):\n",
    "        print('Guava')\n",
    "    elif (place == 4):\n",
    "        print('Jamun')\n",
    "    elif (place == 5):\n",
    "        print('Jatropa')\n",
    "    elif (place == 6):\n",
    "        print('Lemon')\n",
    "    elif (place == 7):\n",
    "        print('Mango')\n",
    "else:\n",
    "    print('Not Found !')"
   ]
  }
 ],
 "metadata": {
  "kernelspec": {
   "display_name": "Python 3",
   "language": "python",
   "name": "python3"
  },
  "language_info": {
   "codemirror_mode": {
    "name": "ipython",
    "version": 3
   },
   "file_extension": ".py",
   "mimetype": "text/x-python",
   "name": "python",
   "nbconvert_exporter": "python",
   "pygments_lexer": "ipython3",
   "version": "3.8.3"
  }
 },
 "nbformat": 4,
 "nbformat_minor": 4
}
