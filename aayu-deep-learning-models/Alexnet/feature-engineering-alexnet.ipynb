{
 "cells": [
  {
   "cell_type": "markdown",
   "metadata": {},
   "source": [
    "## Feature Engineering  for AlexNet"
   ]
  },
  {
   "cell_type": "code",
   "execution_count": 1,
   "metadata": {},
   "outputs": [],
   "source": [
    "# Import Libriaries and Packages\n",
    "import cv2\n",
    "import os"
   ]
  },
  {
   "cell_type": "code",
   "execution_count": 2,
   "metadata": {},
   "outputs": [],
   "source": [
    "# Create a function to read all the images in given folder\n",
    "def loadImg(folderName) :\n",
    "    images = []\n",
    "    for filename in os.listdir(folderName) :\n",
    "        image = cv2.imread(os.path.join(folderName,filename))\n",
    "        if image is not None :\n",
    "            images.append(image)\n",
    "    return images"
   ]
  },
  {
   "cell_type": "code",
   "execution_count": 3,
   "metadata": {},
   "outputs": [],
   "source": [
    "# Create a function to convert ( images to 256x256x3 )\n",
    "\n",
    "def convertImg(folderName) :\n",
    "    # Retrive data from folders\n",
    "    folderPath = \"./Dataset/Original-Dataset/\"\n",
    "    data = loadImg(folderPath+folderName)\n",
    "    \n",
    "    # Number of Images\n",
    "    lenData = len(data)\n",
    "    \n",
    "    # Applying FOR loop to convert all images to the above size\n",
    "    for i in range(len(data)) : \n",
    "        inputImg = data[i]\n",
    "        width = int(inputImg.shape[1])\n",
    "        height = int(inputImg.shape[0])\n",
    "    \n",
    "        borderType = cv2.BORDER_CONSTANT\n",
    "        colorBorder = [255, 255, 255]\n",
    "        increaseSize = 750\n",
    "\n",
    "        if (height > width) :\n",
    "            h = int((height-width)/2)\n",
    "            hmax = int(h + increaseSize)\n",
    "            output = cv2.copyMakeBorder(inputImg, increaseSize, increaseSize, hmax, hmax, borderType, None, colorBorder)\n",
    "        else :\n",
    "            w = int((width-height)/2)\n",
    "            wmax = int(w + increaseSize)\n",
    "            output = cv2.copyMakeBorder(inputImg, wmax, wmax, increaseSize, increaseSize, borderType, None, colorBorder)\n",
    "        \n",
    "        # Resize to Alexnet Image Size\n",
    "        width = int(227)\n",
    "        height = int(227)\n",
    "    \n",
    "        dsize = (width, height)\n",
    "        outputImg = cv2.resize(output, dsize)\n",
    "        \n",
    "        folderPath = \"./Dataset/Featured-Dataset/\"\n",
    "        imgName = ('/'+str(i+1)+'.jpg')\n",
    "        filename = folderPath+folderName+imgName\n",
    "        cv2.imwrite(filename, outputImg)\n",
    "        \n",
    "    print('Task Finished for '+folderName+' !')"
   ]
  },
  {
   "cell_type": "code",
   "execution_count": 4,
   "metadata": {},
   "outputs": [
    {
     "name": "stdout",
     "output_type": "stream",
     "text": [
      "Task Finished for Arjun !\n",
      "Task Finished for Guava !\n",
      "Task Finished for Jamun !\n",
      "Task Finished for Jatropa !\n",
      "Task Finished for Lemon !\n",
      "Task Finished for Mango !\n",
      "Task Successfuly Completed !\n"
     ]
    }
   ],
   "source": [
    "# Apply for all folder\n",
    "\n",
    "folderPath = \"./Dataset/Original-Dataset/\"\n",
    "fileName = os.listdir(folderPath)\n",
    "\n",
    "for i in range(len(fileName)) :\n",
    "    convertImg(fileName[i])\n",
    "    \n",
    "print('Task Successfuly Completed !')"
   ]
  },
  {
   "cell_type": "code",
   "execution_count": null,
   "metadata": {},
   "outputs": [],
   "source": []
  }
 ],
 "metadata": {
  "kernelspec": {
   "display_name": "Python 3",
   "language": "python",
   "name": "python3"
  },
  "language_info": {
   "codemirror_mode": {
    "name": "ipython",
    "version": 3
   },
   "file_extension": ".py",
   "mimetype": "text/x-python",
   "name": "python",
   "nbconvert_exporter": "python",
   "pygments_lexer": "ipython3",
   "version": "3.8.3"
  }
 },
 "nbformat": 4,
 "nbformat_minor": 4
}
