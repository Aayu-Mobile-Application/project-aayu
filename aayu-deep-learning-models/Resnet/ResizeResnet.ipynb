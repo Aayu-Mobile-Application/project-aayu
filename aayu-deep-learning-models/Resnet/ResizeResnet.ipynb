{
 "cells": [
  {
   "cell_type": "code",
   "execution_count": 30,
   "metadata": {},
   "outputs": [],
   "source": [
    "import cv2"
   ]
  },
  {
   "cell_type": "code",
   "execution_count": 2,
   "metadata": {},
   "outputs": [
    {
     "data": {
      "text/plain": [
       "'C:\\\\Users\\\\Anuja Dassanayake\\\\Data Augmentation'"
      ]
     },
     "execution_count": 2,
     "metadata": {},
     "output_type": "execute_result"
    }
   ],
   "source": [
    "pwd"
   ]
  },
  {
   "cell_type": "code",
   "execution_count": 31,
   "metadata": {},
   "outputs": [
    {
     "name": "stdout",
     "output_type": "stream",
     "text": [
      "Height :  2050\n",
      "Width :  2481\n"
     ]
    }
   ],
   "source": [
    "img = cv2.imread(\"2.png\", cv2.IMREAD_UNCHANGED)\n",
    "\n",
    "width = int(img.shape[1])\n",
    "height = int(img.shape[0])\n",
    "\n",
    "print('Height : ',height)\n",
    "print('Width : ',width)"
   ]
  },
  {
   "cell_type": "code",
   "execution_count": 32,
   "metadata": {},
   "outputs": [
    {
     "name": "stdout",
     "output_type": "stream",
     "text": [
      "Height Increase\n"
     ]
    }
   ],
   "source": [
    "borderType = cv2.BORDER_CONSTANT\n",
    "colorBorder = [255, 255, 255]\n",
    "\n",
    "if (height > width) :\n",
    "    h = int((height-width)/2)\n",
    "    output = cv2.copyMakeBorder(img, 0, 0, h, h, borderType, None, colorBorder) \n",
    "    print(\"Width Increase\")\n",
    "else :\n",
    "    w = int((width-height)/2)\n",
    "    output = cv2.copyMakeBorder(img, w, w, 0, 0, borderType, None, colorBorder)\n",
    "    print(\"Height Increase\")"
   ]
  },
  {
   "cell_type": "code",
   "execution_count": 33,
   "metadata": {},
   "outputs": [],
   "source": [
    "scale_percent = 200\n",
    "\n",
    "width = int(output.shape[1] * scale_percent / 1000)\n",
    "height = int(output.shape[0] * scale_percent / 1000)\n",
    "\n",
    "dsize = (width, height)\n",
    "\n",
    "outputImg = cv2.resize(output, dsize)"
   ]
  },
  {
   "cell_type": "code",
   "execution_count": 34,
   "metadata": {},
   "outputs": [],
   "source": [
    "cv2.imshow(\"Resized image\", outputImg)\n",
    "cv2.waitKey(0)\n",
    "cv2.destroyAllWindows()"
   ]
  },
  {
   "cell_type": "code",
   "execution_count": 35,
   "metadata": {},
   "outputs": [
    {
     "data": {
      "text/plain": [
       "True"
      ]
     },
     "execution_count": 35,
     "metadata": {},
     "output_type": "execute_result"
    }
   ],
   "source": [
    "filename = 'resizeimg.png'\n",
    "cv2.imwrite(filename, outputImg)"
   ]
  },
  {
   "cell_type": "code",
   "execution_count": 36,
   "metadata": {},
   "outputs": [
    {
     "name": "stdout",
     "output_type": "stream",
     "text": [
      "2.png\n"
     ]
    }
   ],
   "source": [
    "i = 1\n",
    "\n",
    "filename = (str(i+1)+'.png')\n",
    "print(filename)"
   ]
  },
  {
   "cell_type": "code",
   "execution_count": null,
   "metadata": {},
   "outputs": [],
   "source": []
  }
 ],
 "metadata": {
  "kernelspec": {
   "display_name": "Python 3",
   "language": "python",
   "name": "python3"
  },
  "language_info": {
   "codemirror_mode": {
    "name": "ipython",
    "version": 3
   },
   "file_extension": ".py",
   "mimetype": "text/x-python",
   "name": "python",
   "nbconvert_exporter": "python",
   "pygments_lexer": "ipython3",
   "version": "3.8.5"
  }
 },
 "nbformat": 4,
 "nbformat_minor": 4
}
